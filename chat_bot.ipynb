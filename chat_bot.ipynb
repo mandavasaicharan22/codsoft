{
  "nbformat": 4,
  "nbformat_minor": 0,
  "metadata": {
    "colab": {
      "provenance": [],
      "authorship_tag": "ABX9TyPNa7A7uLdCP/dsSKRhT1zT",
      "include_colab_link": true
    },
    "kernelspec": {
      "name": "python3",
      "display_name": "Python 3"
    },
    "language_info": {
      "name": "python"
    }
  },
  "cells": [
    {
      "cell_type": "markdown",
      "metadata": {
        "id": "view-in-github",
        "colab_type": "text"
      },
      "source": [
        "<a href=\"https://colab.research.google.com/github/mandavasaicharan22/codsoft/blob/main/chat_bot.ipynb\" target=\"_parent\"><img src=\"https://colab.research.google.com/assets/colab-badge.svg\" alt=\"Open In Colab\"/></a>"
      ]
    },
    {
      "cell_type": "code",
      "execution_count": 2,
      "metadata": {
        "colab": {
          "base_uri": "https://localhost:8080/"
        },
        "id": "3wWLscCBSU-H",
        "outputId": "79bbd0a1-9bcd-490a-d93b-634f7051e656"
      },
      "outputs": [
        {
          "output_type": "stream",
          "name": "stdout",
          "text": [
            "I'm Mougli how can i help you \n",
            "___________________________________\n",
            "You: hi\n",
            "Chatbot: Hello! How can I help you today?\n",
            "You: hello\n",
            "Chatbot: Hello! How can I help you today?\n",
            "You: what is your name\n",
            "Chatbot: I'm a chatbot. You can call me Mougli.\n",
            "You: exit\n",
            "Chatbot: Goodbye!\n"
          ]
        }
      ],
      "source": [
        "import re\n",
        "\n",
        "def simple_chatbot(user_input):\n",
        "    # Convert user input to lowercase for case-insensitive matching\n",
        "    user_input = user_input.lower()\n",
        "\n",
        "    # Define rules and responses\n",
        "    greetings = ['hello', 'hi', 'hey', 'greetings']\n",
        "    farewells = ['bye', 'goodbye', 'see you', 'farewell']\n",
        "    questions = ['how are you', 'what is your name', 'who are you', 'what do you do', 'what is your favorite color']\n",
        "    default_response = \"I'm a simple chatbot. You can greet me or ask me something.\"\n",
        "\n",
        "    # Check for matches and provide responses\n",
        "    if any(greeting in user_input for greeting in greetings):\n",
        "        return \"Hello! How can I help you today?\"\n",
        "\n",
        "    elif any(farewell in user_input for farewell in farewells):\n",
        "        return \"Goodbye! Have a great day.\"\n",
        "\n",
        "    elif any(question in user_input for question in questions):\n",
        "        if 'how are you' in user_input:\n",
        "            return \"I'm a computer program, but thanks for asking! How can I assist you?\"\n",
        "        elif 'what is your name' in user_input or 'who are you' in user_input:\n",
        "            return \"I'm a chatbot. You can call me Mougli.\"\n",
        "        elif 'what do you do' in user_input:\n",
        "            return \"I'm here to chat with you and answer your questions. What can I do for you today?\"\n",
        "        elif 'what is your favorite color' in user_input:\n",
        "            return \"As a program, I don't have a favorite color. But let's talk about your preferences instead!\"\n",
        "        else:\n",
        "            return \"I'm just a chatbot. You can call me Mougli.\"\n",
        "\n",
        "    else:\n",
        "        return default_response\n",
        "\n",
        "\n",
        "\n",
        "# Example usage\n",
        "print(\"I'm Mougli how can i help you \")\n",
        "print(\"___________________________________\")\n",
        "while True:\n",
        "    user_input = input(\"You: \")\n",
        "\n",
        "    if user_input.lower() == 'exit':\n",
        "        print(\"Chatbot: Goodbye!\")\n",
        "        break\n",
        "    response = simple_chatbot(user_input)\n",
        "    print(\"Chatbot:\", response)"
      ]
    }
  ]
}